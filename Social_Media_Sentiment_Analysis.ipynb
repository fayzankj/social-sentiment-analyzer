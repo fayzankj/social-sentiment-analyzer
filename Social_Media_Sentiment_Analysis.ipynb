{
 "cells": [
  {
   "cell_type": "code",
   "execution_count": 1,
   "metadata": {
    "ExecuteTime": {
     "end_time": "2025-01-21T09:29:39.420731Z",
     "start_time": "2025-01-21T09:29:35.860975Z"
    },
    "colab": {
     "base_uri": "https://localhost:8080/"
    },
    "id": "H6Uk0A7RG009",
    "outputId": "7b0c1333-c42c-4a1e-eeb7-516dc52152aa"
   },
   "outputs": [
    {
     "name": "stdout",
     "output_type": "stream",
     "text": [
      "Requirement already satisfied: kaggle in c:\\users\\faizan\\appdata\\local\\programs\\python\\python312\\lib\\site-packages (1.6.17)\n",
      "Requirement already satisfied: six>=1.10 in c:\\users\\faizan\\appdata\\local\\programs\\python\\python312\\lib\\site-packages (from kaggle) (1.17.0)\n",
      "Requirement already satisfied: certifi>=2023.7.22 in c:\\users\\faizan\\appdata\\local\\programs\\python\\python312\\lib\\site-packages (from kaggle) (2024.12.14)\n",
      "Requirement already satisfied: python-dateutil in c:\\users\\faizan\\appdata\\local\\programs\\python\\python312\\lib\\site-packages (from kaggle) (2.9.0.post0)\n",
      "Requirement already satisfied: requests in c:\\users\\faizan\\appdata\\local\\programs\\python\\python312\\lib\\site-packages (from kaggle) (2.32.3)\n",
      "Requirement already satisfied: tqdm in c:\\users\\faizan\\appdata\\local\\programs\\python\\python312\\lib\\site-packages (from kaggle) (4.67.1)\n",
      "Requirement already satisfied: python-slugify in c:\\users\\faizan\\appdata\\local\\programs\\python\\python312\\lib\\site-packages (from kaggle) (8.0.4)\n",
      "Requirement already satisfied: urllib3 in c:\\users\\faizan\\appdata\\local\\programs\\python\\python312\\lib\\site-packages (from kaggle) (2.2.3)\n",
      "Requirement already satisfied: bleach in c:\\users\\faizan\\appdata\\local\\programs\\python\\python312\\lib\\site-packages (from kaggle) (6.2.0)\n",
      "Requirement already satisfied: webencodings in c:\\users\\faizan\\appdata\\local\\programs\\python\\python312\\lib\\site-packages (from bleach->kaggle) (0.5.1)\n",
      "Requirement already satisfied: text-unidecode>=1.3 in c:\\users\\faizan\\appdata\\local\\programs\\python\\python312\\lib\\site-packages (from python-slugify->kaggle) (1.3)\n",
      "Requirement already satisfied: charset-normalizer<4,>=2 in c:\\users\\faizan\\appdata\\local\\programs\\python\\python312\\lib\\site-packages (from requests->kaggle) (3.4.0)\n",
      "Requirement already satisfied: idna<4,>=2.5 in c:\\users\\faizan\\appdata\\local\\programs\\python\\python312\\lib\\site-packages (from requests->kaggle) (3.10)\n",
      "Requirement already satisfied: colorama in c:\\users\\faizan\\appdata\\local\\programs\\python\\python312\\lib\\site-packages (from tqdm->kaggle) (0.4.6)\n"
     ]
    }
   ],
   "source": [
    "# installing kaggle library\n",
    "\n",
    "! pip install kaggle"
   ]
  },
  {
   "cell_type": "code",
   "execution_count": 2,
   "metadata": {
    "ExecuteTime": {
     "end_time": "2025-01-21T09:29:39.562594Z",
     "start_time": "2025-01-21T09:29:39.423810Z"
    },
    "id": "osUW7wrhJLvq"
   },
   "outputs": [
    {
     "name": "stderr",
     "output_type": "stream",
     "text": [
      "The syntax of the command is incorrect.\n",
      "'cp' is not recognized as an internal or external command,\n",
      "operable program or batch file.\n",
      "'chmod' is not recognized as an internal or external command,\n",
      "operable program or batch file.\n"
     ]
    }
   ],
   "source": [
    "# configuring the path of kaggle.json file\n",
    "\n",
    "! mkdir -p ~/.kaggle\n",
    "! cp kaggle.json ~/.kaggle/\n",
    "! chmod 600 ~/.kaggle/kaggle.json"
   ]
  },
  {
   "cell_type": "code",
   "execution_count": null,
   "metadata": {
    "ExecuteTime": {
     "start_time": "2025-01-21T09:29:39.562594Z"
    },
    "colab": {
     "base_uri": "https://localhost:8080/"
    },
    "id": "eeSVBczzNJ5a",
    "jupyter": {
     "is_executing": true
    },
    "outputId": "75b28997-cdba-4690-af1a-093728a7621a"
   },
   "outputs": [],
   "source": [
    "# API to fetch the dataset from kaggle\n",
    "\n",
    "! kaggle datasets download -d kazanova/sentiment140"
   ]
  },
  {
   "cell_type": "code",
   "execution_count": null,
   "metadata": {
    "colab": {
     "base_uri": "https://localhost:8080/"
    },
    "id": "WqJ9mIQsNyPW",
    "jupyter": {
     "is_executing": true
    },
    "outputId": "001f9013-56f8-45ed-8988-b6d632ace6e1"
   },
   "outputs": [],
   "source": [
    "# extracting the zip file\n",
    "\n",
    "from zipfile import ZipFile\n",
    "dataset = '/content/sentiment140.zip'\n",
    "\n",
    "with ZipFile(dataset, 'r') as zip:\n",
    "  zip.extractall()\n",
    "  print('The dataset is extracted')"
   ]
  },
  {
   "cell_type": "markdown",
   "metadata": {
    "id": "eIjfm2T4Iqxl"
   },
   "source": [
    "# **Importing Dependencies**"
   ]
  },
  {
   "cell_type": "code",
   "execution_count": null,
   "metadata": {
    "id": "DDst4xbWOgWg",
    "jupyter": {
     "is_executing": true
    }
   },
   "outputs": [],
   "source": [
    "import numpy as np\n",
    "import pandas as pd\n",
    "import re\n",
    "from nltk.corpus import stopwords\n",
    "from nltk.stem.porter import PorterStemmer\n",
    "from sklearn.feature_extraction.text import TfidfVectorizer\n",
    "from sklearn.model_selection import train_test_split\n",
    "from sklearn.linear_model import LogisticRegression\n",
    "from sklearn.metrics import accuracy_score"
   ]
  },
  {
   "cell_type": "code",
   "execution_count": null,
   "metadata": {
    "colab": {
     "base_uri": "https://localhost:8080/"
    },
    "id": "3-DrvqyBPvqR",
    "jupyter": {
     "is_executing": true
    },
    "outputId": "02e668bd-064e-49d6-d912-7f212bc85ebb"
   },
   "outputs": [],
   "source": [
    "import nltk\n",
    "nltk.download('stopwords')"
   ]
  },
  {
   "cell_type": "code",
   "execution_count": null,
   "metadata": {
    "colab": {
     "base_uri": "https://localhost:8080/"
    },
    "id": "aMCiTTyjP8E0",
    "jupyter": {
     "is_executing": true
    },
    "outputId": "e994179d-1b8a-47a1-926e-8ca1af97639e"
   },
   "outputs": [],
   "source": [
    "# printing stopwords in English\n",
    "# stopwords are those words which does not add any meaning to the model\n",
    "# its usecase here is to remove such words from our dataset which are not required for analysis to reduce complexity\n",
    "\n",
    "print(stopwords.words('english'))"
   ]
  },
  {
   "cell_type": "markdown",
   "metadata": {
    "id": "S8grtN8fQwSu"
   },
   "source": [
    "# **Data Collection & Processing**"
   ]
  },
  {
   "cell_type": "code",
   "execution_count": null,
   "metadata": {
    "id": "P9YPQHvzQHDa",
    "jupyter": {
     "is_executing": true
    }
   },
   "outputs": [],
   "source": [
    "# loding data through pandas dataframe\n",
    "\n",
    "social_data = pd.read_csv('/content/training.1600000.processed.noemoticon.csv', encoding = 'ISO-8859-1')"
   ]
  },
  {
   "cell_type": "code",
   "execution_count": null,
   "metadata": {
    "colab": {
     "base_uri": "https://localhost:8080/"
    },
    "id": "xk0o8pqqREVp",
    "jupyter": {
     "is_executing": true
    },
    "outputId": "4f352e72-ad96-4f94-ae76-3aca5870847c"
   },
   "outputs": [],
   "source": [
    "# checking the number of rows and cols\n",
    "\n",
    "social_data.shape"
   ]
  },
  {
   "cell_type": "code",
   "execution_count": null,
   "metadata": {
    "colab": {
     "base_uri": "https://localhost:8080/",
     "height": 306
    },
    "collapsed": true,
    "id": "kjZPAfKXRNY4",
    "jupyter": {
     "is_executing": true,
     "outputs_hidden": true
    },
    "outputId": "e216ce65-9d6e-41c5-9d85-7529fa471ba3"
   },
   "outputs": [],
   "source": [
    "# printing first five rows of dataframe\n",
    "\n",
    "social_data.head()"
   ]
  },
  {
   "cell_type": "code",
   "execution_count": null,
   "metadata": {
    "colab": {
     "base_uri": "https://localhost:8080/"
    },
    "id": "CIJ1kh1kRj3C",
    "jupyter": {
     "is_executing": true
    },
    "outputId": "43b42286-7f75-447e-9c09-8efa7b35a9cd"
   },
   "outputs": [],
   "source": [
    "# naming cols and reading dataset again\n",
    "# earlier the first post was read as col name\n",
    "# therefore it was showing 1599999 rows\n",
    "# now after giving col names it's\n",
    "\n",
    "col_name = ['target','id', 'date', 'user','flag','text']\n",
    "social_data = pd.read_csv('/content/training.1600000.processed.noemoticon.csv', names = col_name, encoding = 'ISO-8859-1')\n",
    "social_data.shape"
   ]
  },
  {
   "cell_type": "code",
   "execution_count": null,
   "metadata": {
    "colab": {
     "base_uri": "https://localhost:8080/",
     "height": 204
    },
    "collapsed": true,
    "id": "f5WDPXYKTn2O",
    "jupyter": {
     "is_executing": true,
     "outputs_hidden": true
    },
    "outputId": "0b6b195e-2176-4e0b-ef3d-545b40e9fabf"
   },
   "outputs": [],
   "source": [
    "# printing first five rows of dataframe\n",
    "\n",
    "social_data.head()"
   ]
  },
  {
   "cell_type": "code",
   "execution_count": null,
   "metadata": {
    "colab": {
     "base_uri": "https://localhost:8080/"
    },
    "collapsed": true,
    "id": "48ORR0QgTwnq",
    "jupyter": {
     "is_executing": true,
     "outputs_hidden": true
    },
    "outputId": "1d9804ac-6d4d-49d3-de29-48fa4a3e61a3"
   },
   "outputs": [],
   "source": [
    "# counting missing values\n",
    "# so that we can drop them\n",
    "\n",
    "social_data.isnull().sum()"
   ]
  },
  {
   "cell_type": "code",
   "execution_count": null,
   "metadata": {
    "id": "iZ-9nnuebkLk",
    "jupyter": {
     "is_executing": true
    }
   },
   "outputs": [],
   "source": [
    "# converting 4 to 1\n",
    "\n",
    "# annotation in out dataset :-\n",
    "# 0 -> negative\n",
    "# 4 -> positive\n",
    "\n",
    "# inplace = true, so that changes can be made in original dataset\n",
    "\n",
    "social_data.replace({'target':{4:1}}, inplace=True)"
   ]
  },
  {
   "cell_type": "code",
   "execution_count": null,
   "metadata": {
    "colab": {
     "base_uri": "https://localhost:8080/"
    },
    "id": "Zf81azmkb9hm",
    "jupyter": {
     "is_executing": true
    },
    "outputId": "f393c6e9-4774-4ce1-e21d-bc83c1a777d6"
   },
   "outputs": [],
   "source": [
    "# checking distribution of target cols\n",
    "\n",
    "social_data['target'].value_counts()"
   ]
  },
  {
   "cell_type": "markdown",
   "metadata": {
    "id": "dO8IQbZ9e6GT"
   },
   "source": [
    "\n",
    "\n",
    "```\n",
    "0 --> Negative\n",
    "1 --> Positive\n",
    "```\n",
    "\n"
   ]
  },
  {
   "cell_type": "markdown",
   "metadata": {
    "id": "OLql_Tc1XBXf"
   },
   "source": [
    "# **Stemming**\n",
    "\n",
    "*Reducing the word to its word root so that Model can analyse it efficiently*"
   ]
  },
  {
   "cell_type": "code",
   "execution_count": null,
   "metadata": {
    "id": "-tww-qtCUy1k",
    "jupyter": {
     "is_executing": true
    }
   },
   "outputs": [],
   "source": [
    "# loading the instance of the porter stemmer ()\n",
    "\n",
    "port_stem = PorterStemmer()"
   ]
  },
  {
   "cell_type": "code",
   "execution_count": null,
   "metadata": {
    "id": "7GFMvTVKXZd9",
    "jupyter": {
     "is_executing": true
    }
   },
   "outputs": [],
   "source": [
    "# defining the stemming function\n",
    "\n",
    "def stemming(content):\n",
    "\n",
    "  stemmed_content = re.sub('[^a-zA-Z]',' ',content) # every character apart from a-z A-Z will be removed\n",
    "  stemmed_content = stemmed_content.lower()         # converting to lower case\n",
    "  stemmed_content = stemmed_content.split()         # splitting the words\n",
    "\n",
    "  # if word is not in stop words stemming will take place else not\n",
    "  stemmed_content = [port_stem.stem(word) for word in stemmed_content if not word in stopwords.words('english')]\n",
    "\n",
    "  # combining all the root words again after splitting\n",
    "  stemmed_content = ' '.join(stemmed_content)\n",
    "\n",
    "  return stemmed_content"
   ]
  },
  {
   "cell_type": "code",
   "execution_count": null,
   "metadata": {
    "id": "pxWNx0kJYa64",
    "jupyter": {
     "is_executing": true
    }
   },
   "outputs": [],
   "source": [
    "# applying the function on the data\n",
    "\n",
    "social_data['stemmed_content'] = social_data['text'].apply(stemming)"
   ]
  },
  {
   "cell_type": "code",
   "execution_count": null,
   "metadata": {
    "colab": {
     "base_uri": "https://localhost:8080/"
    },
    "id": "MUGeqGWeYxD9",
    "jupyter": {
     "is_executing": true
    },
    "outputId": "12a5a69c-0a8d-416f-b0cf-ceba3a53282d"
   },
   "outputs": [],
   "source": [
    "# printing the stemmed content\n",
    "\n",
    "print(social_data['stemmed_content'])"
   ]
  },
  {
   "cell_type": "code",
   "execution_count": null,
   "metadata": {
    "colab": {
     "base_uri": "https://localhost:8080/"
    },
    "id": "zlhNC9vTa10c",
    "jupyter": {
     "is_executing": true
    },
    "outputId": "c9f8571b-4b6d-422a-e1ac-d3b28d701388"
   },
   "outputs": [],
   "source": [
    "print(social_data['target'])"
   ]
  },
  {
   "cell_type": "code",
   "execution_count": null,
   "metadata": {
    "id": "01YOJoBVbFvP",
    "jupyter": {
     "is_executing": true
    }
   },
   "outputs": [],
   "source": [
    "# separating the data and label\n",
    "\n",
    "x = social_data['stemmed_content'].values\n",
    "y = social_data['target'].values"
   ]
  },
  {
   "cell_type": "code",
   "execution_count": null,
   "metadata": {
    "colab": {
     "base_uri": "https://localhost:8080/"
    },
    "id": "0sWyQGaqbneJ",
    "jupyter": {
     "is_executing": true
    },
    "outputId": "88f8efb5-b6d7-48da-c403-b89d1131427d"
   },
   "outputs": [],
   "source": [
    "print(x)"
   ]
  },
  {
   "cell_type": "code",
   "execution_count": null,
   "metadata": {
    "colab": {
     "base_uri": "https://localhost:8080/"
    },
    "id": "k8TE5kxMboWm",
    "jupyter": {
     "is_executing": true
    },
    "outputId": "a4815d3c-39fe-474b-b61c-1eac0b752ad0"
   },
   "outputs": [],
   "source": [
    "print(y)"
   ]
  },
  {
   "cell_type": "markdown",
   "metadata": {
    "id": "Rx5p2I68bzSh"
   },
   "source": [
    "# **Splitting Data to training data and test data**"
   ]
  },
  {
   "cell_type": "code",
   "execution_count": null,
   "metadata": {
    "id": "DO5NNCjweWSb",
    "jupyter": {
     "is_executing": true
    }
   },
   "outputs": [],
   "source": [
    "# train_test_split()  : splits data into training and test data\n",
    "# x_train and y_train : store the training data & corresponding label\n",
    "# x_test and y_test   : store the testing data & corresponding label\n",
    "# test_size = 0.2     : 20% data for testing 80% data for training\n",
    "# stratify = y        : ensure equal proportion of 0 & 1 label\n",
    "# random_state        : splitting the data randomly\n",
    "\n",
    "x_train, x_test, y_train, y_test = train_test_split(x, y, test_size=0.2, stratify=y, random_state=2)"
   ]
  },
  {
   "cell_type": "code",
   "execution_count": null,
   "metadata": {
    "colab": {
     "base_uri": "https://localhost:8080/"
    },
    "id": "sSsdQy2QcXho",
    "jupyter": {
     "is_executing": true
    },
    "outputId": "51a21874-5ccf-4099-c998-c4cb8cf45fac"
   },
   "outputs": [],
   "source": [
    "# 20% of 1600000 = 320000\n",
    "# 80% of 1600000 = 1280000\n",
    "\n",
    "print(x.shape, x_train.shape, x_test.shape)"
   ]
  },
  {
   "cell_type": "code",
   "execution_count": null,
   "metadata": {
    "colab": {
     "base_uri": "https://localhost:8080/"
    },
    "id": "bjvQ_OPHg_WK",
    "jupyter": {
     "is_executing": true
    },
    "outputId": "3e05a334-53d8-45b5-ed61-b9c329532f05"
   },
   "outputs": [],
   "source": [
    "print(x_train)"
   ]
  },
  {
   "cell_type": "code",
   "execution_count": null,
   "metadata": {
    "colab": {
     "base_uri": "https://localhost:8080/"
    },
    "id": "4GQDshNOhMTH",
    "jupyter": {
     "is_executing": true
    },
    "outputId": "c492d008-5b14-4040-993e-d2082988f46c"
   },
   "outputs": [],
   "source": [
    "print(x_test)"
   ]
  },
  {
   "cell_type": "code",
   "execution_count": null,
   "metadata": {
    "id": "gwOqTewnhVSz",
    "jupyter": {
     "is_executing": true
    }
   },
   "outputs": [],
   "source": [
    "# convert text data into numerical data so that ML model understand\n",
    "# TfidfVectorizer : assigns the importance to each individual word\n",
    "\n",
    "vectorizer = TfidfVectorizer()\n",
    "\n",
    "# fit_transform : learns from the data and transorm values\n",
    "# transform     : only transform the values\n",
    "\n",
    "x_train = vectorizer.fit_transform(x_train)\n",
    "x_test = vectorizer.transform(x_test)"
   ]
  },
  {
   "cell_type": "code",
   "execution_count": null,
   "metadata": {
    "colab": {
     "base_uri": "https://localhost:8080/"
    },
    "collapsed": true,
    "id": "EOvHggrJh9bO",
    "jupyter": {
     "is_executing": true,
     "outputs_hidden": true
    },
    "outputId": "7b37f8a8-2146-4789-bdd9-e492fc73ab0d"
   },
   "outputs": [],
   "source": [
    "print(x_train)"
   ]
  },
  {
   "cell_type": "code",
   "execution_count": null,
   "metadata": {
    "colab": {
     "base_uri": "https://localhost:8080/"
    },
    "collapsed": true,
    "id": "chNzsnlTiVmS",
    "jupyter": {
     "is_executing": true,
     "outputs_hidden": true
    },
    "outputId": "4e0f330a-4fe1-43cc-e4eb-afddcb55cb85"
   },
   "outputs": [],
   "source": [
    "print(x_test)"
   ]
  },
  {
   "cell_type": "markdown",
   "metadata": {
    "id": "2T1JlpPLik7c"
   },
   "source": [
    "# **Training the ML Model**"
   ]
  },
  {
   "cell_type": "markdown",
   "metadata": {
    "id": "kAcyXM0fipqa"
   },
   "source": [
    "*Logistic Regression*\n",
    "- classification model used to classify data points to different classes"
   ]
  },
  {
   "cell_type": "code",
   "execution_count": null,
   "metadata": {
    "colab": {
     "base_uri": "https://localhost:8080/",
     "height": 74
    },
    "id": "2m5LCsaVQHQW",
    "jupyter": {
     "is_executing": true
    },
    "outputId": "b23290ac-6ba8-4e70-fd73-54b4f5fea10b"
   },
   "outputs": [],
   "source": [
    "# Train the Logistic Regression model\n",
    "\n",
    "model = LogisticRegression(max_iter=1000)\n",
    "model.fit(x_train, y_train)\n"
   ]
  },
  {
   "cell_type": "code",
   "execution_count": null,
   "metadata": {
    "id": "envmSNXQk2Yq",
    "jupyter": {
     "is_executing": true
    }
   },
   "outputs": [],
   "source": [
    "import pickle"
   ]
  },
  {
   "cell_type": "code",
   "execution_count": null,
   "metadata": {
    "id": "9kabbo8qQGO-",
    "jupyter": {
     "is_executing": true
    }
   },
   "outputs": [],
   "source": [
    "# Save the TfidfVectorizer\n",
    "# so that we can reuse it later\n",
    "# without retraining it\n",
    "\n",
    "with open('tfidf_vectorizer.pkl', 'wb') as f: # wb : write binary\n",
    "    pickle.dump(vectorizer, f)"
   ]
  },
  {
   "cell_type": "code",
   "execution_count": null,
   "metadata": {
    "id": "fNYBYEnGQNYU",
    "jupyter": {
     "is_executing": true
    }
   },
   "outputs": [],
   "source": [
    "# Save the trained model\n",
    "\n",
    "filename = 'trained_model.sav'\n",
    "pickle.dump(model, open(filename, 'wb'))"
   ]
  },
  {
   "cell_type": "code",
   "execution_count": null,
   "metadata": {
    "id": "ZUXHex03QNME",
    "jupyter": {
     "is_executing": true
    }
   },
   "outputs": [],
   "source": [
    "# Load the trained model\n",
    "\n",
    "loaded_model = pickle.load(open('trained_model.sav', 'rb'))"
   ]
  },
  {
   "cell_type": "code",
   "execution_count": null,
   "metadata": {
    "id": "snKybEXGQM9c",
    "jupyter": {
     "is_executing": true
    }
   },
   "outputs": [],
   "source": [
    "# Load the TfidfVectorizer\n",
    "\n",
    "vectorizer = pickle.load(open('tfidf_vectorizer.pkl', 'rb'))"
   ]
  },
  {
   "cell_type": "code",
   "execution_count": null,
   "metadata": {
    "id": "z-t55VmFQd9x",
    "jupyter": {
     "is_executing": true
    }
   },
   "outputs": [],
   "source": [
    "# Function to predict sentiment of a single input sentence\n",
    "\n",
    "def predict_sentiment(sentence):\n",
    "    preprocessed_sentence = stemming(sentence)\n",
    "    transformed_sentence = vectorizer.transform([preprocessed_sentence])\n",
    "    prediction = loaded_model.predict(transformed_sentence)\n",
    "    if prediction[0] == 0:\n",
    "        return 'Negative'\n",
    "    else:\n",
    "        return 'Positive'"
   ]
  },
  {
   "cell_type": "code",
   "execution_count": null,
   "metadata": {
    "colab": {
     "base_uri": "https://localhost:8080/"
    },
    "id": "Ytvg3hqcQd6-",
    "jupyter": {
     "is_executing": true
    },
    "outputId": "27c01fb5-1744-4e9d-eda3-231e243dc3d8"
   },
   "outputs": [],
   "source": [
    "# Example usage\n",
    "\n",
    "my_sentence = \"I love this product! It's amazing.\"\n",
    "print(f'Sentence: \"{my_sentence}\" -> Sentiment: {predict_sentiment(my_sentence)}')"
   ]
  },
  {
   "cell_type": "code",
   "execution_count": null,
   "metadata": {
    "colab": {
     "base_uri": "https://localhost:8080/"
    },
    "id": "dRsPucdoQd3A",
    "jupyter": {
     "is_executing": true
    },
    "outputId": "b367eb33-e9f8-451b-acda-f208fa2e7ebc"
   },
   "outputs": [],
   "source": [
    "# Example usage\n",
    "\n",
    "my_sentence = \"This is the worst service I've ever had.\"\n",
    "print(f'Sentence: \"{my_sentence}\" -> Sentiment: {predict_sentiment(my_sentence)}')"
   ]
  },
  {
   "cell_type": "markdown",
   "metadata": {
    "id": "CXvdEAS2jOjU"
   },
   "source": [
    "## **Model Evaluation**"
   ]
  },
  {
   "cell_type": "markdown",
   "metadata": {
    "id": "YtjnktbmjRXl"
   },
   "source": [
    "*Accuracy Score*"
   ]
  },
  {
   "cell_type": "code",
   "execution_count": null,
   "metadata": {
    "id": "3PsuJ3I0jFU7",
    "jupyter": {
     "is_executing": true
    }
   },
   "outputs": [],
   "source": [
    "# accuracy score on training data\n",
    "# predict() will tell wheter the data is postive or negitive\n",
    "# accuracy() will test it on the predictions made and tell accuracy\n",
    "\n",
    "x_train_prediction = model.predict(x_train)\n",
    "training_data_accuracy = accuracy_score(y_train, x_train_prediction)"
   ]
  },
  {
   "cell_type": "code",
   "execution_count": null,
   "metadata": {
    "colab": {
     "base_uri": "https://localhost:8080/"
    },
    "id": "qByQ80fMjt2G",
    "jupyter": {
     "is_executing": true
    },
    "outputId": "51b08216-3496-473a-87a2-feb712cc48ef"
   },
   "outputs": [],
   "source": [
    "print('accuracy score on training data : ',training_data_accuracy)"
   ]
  },
  {
   "cell_type": "code",
   "execution_count": null,
   "metadata": {
    "id": "CsUIR2-Tj1m2",
    "jupyter": {
     "is_executing": true
    }
   },
   "outputs": [],
   "source": [
    "# accuracy score on test data\n",
    "\n",
    "x_test_prediction = model.predict(x_test)\n",
    "test_data_accuracy = accuracy_score(y_test, x_test_prediction)"
   ]
  },
  {
   "cell_type": "code",
   "execution_count": null,
   "metadata": {
    "colab": {
     "base_uri": "https://localhost:8080/"
    },
    "id": "PmCt5TkwkxbB",
    "jupyter": {
     "is_executing": true
    },
    "outputId": "ac8edaed-bd82-4f42-8c06-387a83c459a4"
   },
   "outputs": [],
   "source": [
    "print('accuracy score on test data : ',test_data_accuracy)"
   ]
  },
  {
   "cell_type": "markdown",
   "metadata": {
    "id": "vIxeyb1ttD3o"
   },
   "source": [
    "***Training Data Score : 81%***"
   ]
  },
  {
   "cell_type": "markdown",
   "metadata": {
    "id": "8uRtEV6paiWP"
   },
   "source": [
    "***Testing  Data Score : 77%***"
   ]
  }
 ],
 "metadata": {
  "colab": {
   "provenance": []
  },
  "kernelspec": {
   "display_name": "Python 3 (ipykernel)",
   "language": "python",
   "name": "python3"
  },
  "language_info": {
   "codemirror_mode": {
    "name": "ipython",
    "version": 3
   },
   "file_extension": ".py",
   "mimetype": "text/x-python",
   "name": "python",
   "nbconvert_exporter": "python",
   "pygments_lexer": "ipython3",
   "version": "3.12.8"
  }
 },
 "nbformat": 4,
 "nbformat_minor": 4
}
